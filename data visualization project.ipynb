{
 "cells": [
  {
   "cell_type": "code",
   "execution_count": 3,
   "id": "ae1ce652-e8e8-4bd5-8548-3f2d05a59e39",
   "metadata": {},
   "outputs": [],
   "source": [
    "import openpyxl\n",
    "import pandas as pd\n",
    "\n",
    "workbook = openpyxl.Workbook()\n",
    "sheet = workbook.active\n",
    "\n",
    "data=[\n",
    "    ['NAME','DOMAIN','AGE','LOCATION','SALARY','EXP'],\n",
    "    ['ALEX','TESTING',25,'BNG',5000,2],\n",
    "    ['BARB','JAVA',30,'CHE',100000,3],\n",
    "    ['CHERRY','C',40,'PUNE',15000,4],\n",
    "    ['DIPAN','DA',38,'MUMBAI',200000,5],\n",
    "    ['ESWAR','DS',40,'HYD',500000,6]\n",
    "]\n",
    "for row in data:\n",
    "    sheet.append(row)\n",
    "\n",
    "workbook.save('data.xlsx')"
   ]
  },
  {
   "cell_type": "code",
   "execution_count": 5,
   "id": "afe5ac13-0205-49c1-9824-2230a6a95e21",
   "metadata": {},
   "outputs": [
    {
     "data": {
      "text/plain": [
       "[['NAME', 'DOMAIN', 'AGE', 'LOCATION', 'SALARY', 'EXP'],\n",
       " ['ALEX', 'TESTING', 25, 'BNG', 5000, 2],\n",
       " ['BARB', 'JAVA', 30, 'CHE', 100000, 3],\n",
       " ['CHERRY', 'C', 40, 'PUNE', 15000, 4],\n",
       " ['DIPAN', 'DA', 38, 'MUMBAI', 200000, 5],\n",
       " ['ESWAR', 'DS', 40, 'HYD', 500000, 6]]"
      ]
     },
     "execution_count": 5,
     "metadata": {},
     "output_type": "execute_result"
    }
   ],
   "source": [
    "data"
   ]
  },
  {
   "cell_type": "code",
   "execution_count": null,
   "id": "0dfb3a87-e0b8-4503-9b93-c25498bfc526",
   "metadata": {},
   "outputs": [],
   "source": [
    "import os\n",
    "os.getcwd()"
   ]
  },
  {
   "cell_type": "code",
   "execution_count": null,
   "id": "81b91b38-2066-4799-9636-b02b2f9f441d",
   "metadata": {},
   "outputs": [],
   "source": []
  }
 ],
 "metadata": {
  "kernelspec": {
   "display_name": "Python 3 (ipykernel)",
   "language": "python",
   "name": "python3"
  },
  "language_info": {
   "codemirror_mode": {
    "name": "ipython",
    "version": 3
   },
   "file_extension": ".py",
   "mimetype": "text/x-python",
   "name": "python",
   "nbconvert_exporter": "python",
   "pygments_lexer": "ipython3",
   "version": "3.12.7"
  }
 },
 "nbformat": 4,
 "nbformat_minor": 5
}
